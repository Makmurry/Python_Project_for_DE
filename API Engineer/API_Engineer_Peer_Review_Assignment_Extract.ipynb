{
 "cells": [
  {
   "cell_type": "markdown",
   "metadata": {},
   "source": [
    "<p style=\"text-align:center\">\n",
    "    <a href=\"https://skills.network/?utm_medium=Exinfluencer&utm_source=Exinfluencer&utm_content=000026UJ&utm_term=10006555&utm_id=NA-SkillsNetwork-Channel-SkillsNetworkCoursesIBMDeveloperSkillsNetworkPY0221ENSkillsNetwork899-2023-01-01\">\n",
    "    <img src=\"https://cf-courses-data.s3.us.cloud-object-storage.appdomain.cloud/assets/logos/SN_web_lightmode.png\" width=\"200\" alt=\"Skills Network Logo\"  />\n",
    "    </a>\n",
    "</p>\n"
   ]
  },
  {
   "cell_type": "markdown",
   "metadata": {},
   "source": [
    "# Peer Review Assignment - Data Engineer - Extract API Data\n"
   ]
  },
  {
   "cell_type": "markdown",
   "metadata": {},
   "source": [
    "Estimated time needed: **20** minutes\n"
   ]
  },
  {
   "cell_type": "markdown",
   "metadata": {},
   "source": [
    "## Objectives\n",
    "\n",
    "In this part you will:\n",
    "\n",
    "-   Collect exchange rate data using an API\n",
    "-   Store the data as a CSV\n"
   ]
  },
  {
   "cell_type": "markdown",
   "metadata": {},
   "source": [
    "For this lab, we are going to be using Python and several Python libraries. Some of these libraries might be installed in your lab environment or in SN Labs. Others may need to be installed by you. The cells below will install these libraries when executed.\n"
   ]
  },
  {
   "cell_type": "code",
   "execution_count": 1,
   "metadata": {
    "tags": []
   },
   "outputs": [],
   "source": [
    "#!mamba install pandas==1.3.3 -y\n",
    "#!mamba install requests==2.26.0 -y"
   ]
  },
  {
   "cell_type": "markdown",
   "metadata": {},
   "source": [
    "## Imports\n",
    "\n",
    "Import any additional libraries you may need here.\n"
   ]
  },
  {
   "cell_type": "code",
   "execution_count": 2,
   "metadata": {
    "tags": []
   },
   "outputs": [],
   "source": [
    "import requests\n",
    "import pandas as pd"
   ]
  },
  {
   "cell_type": "markdown",
   "metadata": {},
   "source": [
    "## Extract Data Using an API\n"
   ]
  },
  {
   "cell_type": "markdown",
   "metadata": {},
   "source": [
    "Using ExchangeRate-API we will extract currency exchange rate data. Use the below steps to get the access key and to get the data. \n",
    "1. Open the url : https://exchangeratesapi.io/ and click on **Get Free API Key**. \n",
    "2. Subscribe for Free plan and Sign-in with the Google Account. \n",
    "3. Once the account is created you will be redirected to https://apilayer.com website.\n",
    "2. Now, click on the **user icon** and click **Account** as shown below:\n",
    "\n",
    "<img src=\"https://cf-courses-data.s3.us.cloud-object-storage.appdomain.cloud/IBMDeveloperSkillsNetwork-PY0221EN-SkillsNetwork/labs/module%206/Final%20Assignment/Images/account.png\">\n",
    "\n",
    "3. Scroll down and you will get the API Key section. Copy the API key and use in the url in Question 1.\n"
   ]
  },
  {
   "cell_type": "markdown",
   "metadata": {
    "tags": []
   },
   "source": [
    "### Call the API\n",
    "\n",
    " <b> Question 1</b> Using the `requests` library call the endpoint given above and save the text, remember the first few characters of the output: \n"
   ]
  },
  {
   "cell_type": "code",
   "execution_count": 3,
   "metadata": {
    "tags": []
   },
   "outputs": [
    {
     "data": {
      "text/plain": [
       "<Response [200]>"
      ]
     },
     "execution_count": 3,
     "metadata": {},
     "output_type": "execute_result"
    }
   ],
   "source": [
    "# Write your code here\n",
    "url = \"http://api.exchangeratesapi.io/v1/latest?base=EUR&access_key=***Your Free API Key***\"  #Make sure to change ******* to your API key.\n",
    "requests.get(url)"
   ]
  },
  {
   "cell_type": "code",
   "execution_count": 4,
   "metadata": {
    "tags": []
   },
   "outputs": [
    {
     "data": {
      "text/plain": [
       "'{\"success\":true,\"timestamp\":1692004683,\"base\":\"EUR\",\"date\":\"2023-08-14\",\"rates\":{\"AED\":4.021662,\"AFN\":92.592018,\"ALL\":103.914493,\"AMD\":426.87423,\"ANG\":1.983485,\"AOA\":903.297671,\"ARS\":314.592547,\"AUD\":1.685586,\"AWG\":1.973569,\"AZN\":1.859958,\"BAM\":1.957957,\"BBD\":2.222179,\"BDT\":120.462726,\"BGN\":1.954879,\"BHD\":0.412752,\"BIF\":3119.093895,\"BMD\":1.094906,\"BND\":1.485817,\"BOB\":7.605345,\"BRL\":5.372162,\"BSD\":1.100513,\"BTC\":3.7218569e-5,\"BTN\":91.187403,\"BWP\":14.852364,\"BYN\":2.778024,\"BYR\":21460.164867,\"BZD\":2.218475,\"CAD\":1.472107,\"CDF\":2671.571612,\"CHF\":0.959669,\"CLF\":0.034135,\"CLP\":941.893434,\"CNY\":7.943984,\"COP\":4341.150473,\"CRC\":588.943521,\"CUC\":1.094906,\"CUP\":29.015019,\"CVE\":110.391671,\"CZK\":24.05794,\"DJF\":195.957696,\"DKK\":7.451717,\"DOP\":62.458246,\"DZD\":148.863551,\"EGP\":33.835197,\"ERN\":16.423596,\"ETB\":60.697777,\"EUR\":1,\"FJD\":2.465509,\"FKP\":0.862423,\"GBP\":0.861998,\"GEL\":2.852201,\"GGP\":0.862423,\"GHS\":12.298494,\"GIP\":0.862423,\"GMD\":66.132967,\"GNF\":9459.379172,\"GTQ\":8.656617,\"GYD\":230.252642,\"HKD\":8.559091,\"HNL\":27.071828,\"HRK\":7.536022,\"HTG\":150.222772,\"HUF\":382.682925,\"IDR\":16765.589566,\"ILS\":4.091939,\"IMP\":0.862423,\"INR\":90.854781,\"IQD\":1441.494826,\"IRR\":46328.229393,\"ISK\":144.703182,\"JEP\":0.862423,\"JMD\":170.147469,\"JOD\":0.775177,\"JPY\":158.644813,\"KES\":157.335364,\"KGS\":96.373492,\"KHR\":4549.930014,\"KMF\":492.51629,\"KPW\":985.415733,\"KRW\":1458.957279,\"KWD\":0.336815,\"KYD\":0.917115,\"KZT\":491.610638,\"LAK\":21393.059398,\"LBP\":16520.579633,\"LKR\":353.307342,\"LRD\":204.442355,\"LSL\":20.476138,\"LTL\":3.232973,\"LVL\":0.662298,\"LYD\":5.277863,\"MAD\":10.754801,\"MDL\":19.397815,\"MGA\":4960.465454,\"MKD\":61.69368,\"MMK\":2311.146427,\"MNT\":3801.956277,\"MOP\":8.860844,\"MRO\":390.881386,\"MUR\":49.602592,\"MVR\":16.806989,\"MWK\":1194.416011,\"MXN\":18.607167,\"MYR\":5.050255,\"MZN\":69.25293,\"NAD\":20.481416,\"NGN\":846.636691,\"NIO\":40.263995,\"NOK\":11.429323,\"NPR\":145.898752,\"NZD\":1.829736,\"OMR\":0.42151,\"PAB\":1.100613,\"PEN\":4.036447,\"PGK\":3.999407,\"PHP\":62.24488,\"PKR\":317.402215,\"PLN\":4.434864,\"PYG\":7996.884025,\"QAR\":3.986585,\"RON\":4.9423,\"RSD\":117.266224,\"RUB\":110.681347,\"RWF\":1298.530725,\"SAR\":4.107506,\"SBD\":9.163038,\"SCR\":14.595285,\"SDG\":656.739209,\"SEK\":11.852273,\"SGD\":1.481953,\"SHP\":1.332228,\"SLE\":23.545919,\"SLL\":21624.401167,\"SOS\":623.551401,\"SSP\":658.608653,\"SRD\":41.852826,\"STD\":22662.351267,\"SYP\":14343.273863,\"SZL\":20.727838,\"THB\":38.482667,\"TJS\":12.067807,\"TMT\":3.832172,\"TND\":3.381892,\"TOP\":2.602483,\"TRY\":29.619435,\"TTD\":7.470367,\"TWD\":34.967476,\"TZS\":2742.740437,\"UAH\":40.645383,\"UGX\":4105.504708,\"USD\":1.094906,\"UYU\":41.785849,\"UZS\":13289.642564,\"VEF\":3439769.636832,\"VES\":32.920106,\"VND\":26081.764658,\"VUV\":131.094156,\"WST\":3.012957,\"XAF\":656.680532,\"XAG\":0.0482,\"XAU\":0.000572,\"XCD\":2.959039,\"XDR\":0.823207,\"XOF\":656.680532,\"XPF\":119.509183,\"YER\":274.110163,\"ZAR\":20.738298,\"ZMK\":9855.477997,\"ZMW\":20.988413,\"ZWL\":352.559405}}'"
      ]
     },
     "execution_count": 4,
     "metadata": {},
     "output_type": "execute_result"
    }
   ],
   "source": [
    "requests.get(url).text"
   ]
  },
  {
   "cell_type": "markdown",
   "metadata": {},
   "source": [
    "### Save as DataFrame\n",
    "\n",
    " <b> Question 2</b>  Using the data gathered turn it into a `pandas` dataframe. The dataframe should have the Currency as the index and `Rate` as their columns. Make sure to drop unnecessary columns.\n"
   ]
  },
  {
   "cell_type": "code",
   "execution_count": 5,
   "metadata": {
    "tags": []
   },
   "outputs": [
    {
     "data": {
      "text/html": [
       "<div>\n",
       "<style scoped>\n",
       "    .dataframe tbody tr th:only-of-type {\n",
       "        vertical-align: middle;\n",
       "    }\n",
       "\n",
       "    .dataframe tbody tr th {\n",
       "        vertical-align: top;\n",
       "    }\n",
       "\n",
       "    .dataframe thead th {\n",
       "        text-align: right;\n",
       "    }\n",
       "</style>\n",
       "<table border=\"1\" class=\"dataframe\">\n",
       "  <thead>\n",
       "    <tr style=\"text-align: right;\">\n",
       "      <th></th>\n",
       "      <th>success</th>\n",
       "      <th>timestamp</th>\n",
       "      <th>base</th>\n",
       "      <th>date</th>\n",
       "      <th>rates</th>\n",
       "    </tr>\n",
       "  </thead>\n",
       "  <tbody>\n",
       "    <tr>\n",
       "      <th>AED</th>\n",
       "      <td>True</td>\n",
       "      <td>2023-08-14 09:18:03</td>\n",
       "      <td>EUR</td>\n",
       "      <td>2023-08-14</td>\n",
       "      <td>4.021662</td>\n",
       "    </tr>\n",
       "    <tr>\n",
       "      <th>AFN</th>\n",
       "      <td>True</td>\n",
       "      <td>2023-08-14 09:18:03</td>\n",
       "      <td>EUR</td>\n",
       "      <td>2023-08-14</td>\n",
       "      <td>92.592018</td>\n",
       "    </tr>\n",
       "    <tr>\n",
       "      <th>ALL</th>\n",
       "      <td>True</td>\n",
       "      <td>2023-08-14 09:18:03</td>\n",
       "      <td>EUR</td>\n",
       "      <td>2023-08-14</td>\n",
       "      <td>103.914493</td>\n",
       "    </tr>\n",
       "    <tr>\n",
       "      <th>AMD</th>\n",
       "      <td>True</td>\n",
       "      <td>2023-08-14 09:18:03</td>\n",
       "      <td>EUR</td>\n",
       "      <td>2023-08-14</td>\n",
       "      <td>426.874230</td>\n",
       "    </tr>\n",
       "    <tr>\n",
       "      <th>ANG</th>\n",
       "      <td>True</td>\n",
       "      <td>2023-08-14 09:18:03</td>\n",
       "      <td>EUR</td>\n",
       "      <td>2023-08-14</td>\n",
       "      <td>1.983485</td>\n",
       "    </tr>\n",
       "    <tr>\n",
       "      <th>...</th>\n",
       "      <td>...</td>\n",
       "      <td>...</td>\n",
       "      <td>...</td>\n",
       "      <td>...</td>\n",
       "      <td>...</td>\n",
       "    </tr>\n",
       "    <tr>\n",
       "      <th>YER</th>\n",
       "      <td>True</td>\n",
       "      <td>2023-08-14 09:18:03</td>\n",
       "      <td>EUR</td>\n",
       "      <td>2023-08-14</td>\n",
       "      <td>274.110163</td>\n",
       "    </tr>\n",
       "    <tr>\n",
       "      <th>ZAR</th>\n",
       "      <td>True</td>\n",
       "      <td>2023-08-14 09:18:03</td>\n",
       "      <td>EUR</td>\n",
       "      <td>2023-08-14</td>\n",
       "      <td>20.738298</td>\n",
       "    </tr>\n",
       "    <tr>\n",
       "      <th>ZMK</th>\n",
       "      <td>True</td>\n",
       "      <td>2023-08-14 09:18:03</td>\n",
       "      <td>EUR</td>\n",
       "      <td>2023-08-14</td>\n",
       "      <td>9855.477997</td>\n",
       "    </tr>\n",
       "    <tr>\n",
       "      <th>ZMW</th>\n",
       "      <td>True</td>\n",
       "      <td>2023-08-14 09:18:03</td>\n",
       "      <td>EUR</td>\n",
       "      <td>2023-08-14</td>\n",
       "      <td>20.988413</td>\n",
       "    </tr>\n",
       "    <tr>\n",
       "      <th>ZWL</th>\n",
       "      <td>True</td>\n",
       "      <td>2023-08-14 09:18:03</td>\n",
       "      <td>EUR</td>\n",
       "      <td>2023-08-14</td>\n",
       "      <td>352.559405</td>\n",
       "    </tr>\n",
       "  </tbody>\n",
       "</table>\n",
       "<p>170 rows × 5 columns</p>\n",
       "</div>"
      ],
      "text/plain": [
       "     success           timestamp base       date        rates\n",
       "AED     True 2023-08-14 09:18:03  EUR 2023-08-14     4.021662\n",
       "AFN     True 2023-08-14 09:18:03  EUR 2023-08-14    92.592018\n",
       "ALL     True 2023-08-14 09:18:03  EUR 2023-08-14   103.914493\n",
       "AMD     True 2023-08-14 09:18:03  EUR 2023-08-14   426.874230\n",
       "ANG     True 2023-08-14 09:18:03  EUR 2023-08-14     1.983485\n",
       "..       ...                 ...  ...        ...          ...\n",
       "YER     True 2023-08-14 09:18:03  EUR 2023-08-14   274.110163\n",
       "ZAR     True 2023-08-14 09:18:03  EUR 2023-08-14    20.738298\n",
       "ZMK     True 2023-08-14 09:18:03  EUR 2023-08-14  9855.477997\n",
       "ZMW     True 2023-08-14 09:18:03  EUR 2023-08-14    20.988413\n",
       "ZWL     True 2023-08-14 09:18:03  EUR 2023-08-14   352.559405\n",
       "\n",
       "[170 rows x 5 columns]"
      ]
     },
     "execution_count": 5,
     "metadata": {},
     "output_type": "execute_result"
    }
   ],
   "source": [
    "# Turn the data into a dataframe\n",
    "df = pd.read_json(url)\n",
    "df"
   ]
  },
  {
   "cell_type": "code",
   "execution_count": 6,
   "metadata": {
    "tags": []
   },
   "outputs": [
    {
     "data": {
      "text/html": [
       "<div>\n",
       "<style scoped>\n",
       "    .dataframe tbody tr th:only-of-type {\n",
       "        vertical-align: middle;\n",
       "    }\n",
       "\n",
       "    .dataframe tbody tr th {\n",
       "        vertical-align: top;\n",
       "    }\n",
       "\n",
       "    .dataframe thead th {\n",
       "        text-align: right;\n",
       "    }\n",
       "</style>\n",
       "<table border=\"1\" class=\"dataframe\">\n",
       "  <thead>\n",
       "    <tr style=\"text-align: right;\">\n",
       "      <th></th>\n",
       "      <th>rates</th>\n",
       "    </tr>\n",
       "  </thead>\n",
       "  <tbody>\n",
       "    <tr>\n",
       "      <th>AED</th>\n",
       "      <td>4.021662</td>\n",
       "    </tr>\n",
       "    <tr>\n",
       "      <th>AFN</th>\n",
       "      <td>92.592018</td>\n",
       "    </tr>\n",
       "    <tr>\n",
       "      <th>ALL</th>\n",
       "      <td>103.914493</td>\n",
       "    </tr>\n",
       "    <tr>\n",
       "      <th>AMD</th>\n",
       "      <td>426.874230</td>\n",
       "    </tr>\n",
       "    <tr>\n",
       "      <th>ANG</th>\n",
       "      <td>1.983485</td>\n",
       "    </tr>\n",
       "    <tr>\n",
       "      <th>...</th>\n",
       "      <td>...</td>\n",
       "    </tr>\n",
       "    <tr>\n",
       "      <th>YER</th>\n",
       "      <td>274.110163</td>\n",
       "    </tr>\n",
       "    <tr>\n",
       "      <th>ZAR</th>\n",
       "      <td>20.738298</td>\n",
       "    </tr>\n",
       "    <tr>\n",
       "      <th>ZMK</th>\n",
       "      <td>9855.477997</td>\n",
       "    </tr>\n",
       "    <tr>\n",
       "      <th>ZMW</th>\n",
       "      <td>20.988413</td>\n",
       "    </tr>\n",
       "    <tr>\n",
       "      <th>ZWL</th>\n",
       "      <td>352.559405</td>\n",
       "    </tr>\n",
       "  </tbody>\n",
       "</table>\n",
       "<p>170 rows × 1 columns</p>\n",
       "</div>"
      ],
      "text/plain": [
       "           rates\n",
       "AED     4.021662\n",
       "AFN    92.592018\n",
       "ALL   103.914493\n",
       "AMD   426.874230\n",
       "ANG     1.983485\n",
       "..           ...\n",
       "YER   274.110163\n",
       "ZAR    20.738298\n",
       "ZMK  9855.477997\n",
       "ZMW    20.988413\n",
       "ZWL   352.559405\n",
       "\n",
       "[170 rows x 1 columns]"
      ]
     },
     "execution_count": 6,
     "metadata": {},
     "output_type": "execute_result"
    }
   ],
   "source": [
    "# Drop unnescessary columns\n",
    "df.drop(['success','timestamp','base','date'], inplace=True, axis=1)\n",
    "df"
   ]
  },
  {
   "cell_type": "code",
   "execution_count": 7,
   "metadata": {
    "tags": []
   },
   "outputs": [],
   "source": [
    "df.reset_index(inplace=True)"
   ]
  },
  {
   "cell_type": "markdown",
   "metadata": {},
   "source": [
    "### Load the Data\n",
    "\n",
    "Using the dataframe save it as a CSV names `exchange_rates_1.csv`.\n"
   ]
  },
  {
   "cell_type": "code",
   "execution_count": 8,
   "metadata": {
    "tags": []
   },
   "outputs": [],
   "source": [
    "# Save the Dataframe\n",
    "df.to_csv(\"exchange_rates_1.csv\", index=False)"
   ]
  },
  {
   "cell_type": "markdown",
   "metadata": {},
   "source": [
    "Your CSV should be in this format with more currencies\n",
    "\n",
    "| | Rates |\n",
    "| ------- | ------- |\n",
    "|  AED| 4.398618    |\n",
    "|  AFN| 92.917693   |  \n",
    "|  ALL| 123.099093  |\n",
    "|  AMD| 621.935674  |\n",
    "|  ANG| 2.149648    | \n"
   ]
  },
  {
   "cell_type": "markdown",
   "metadata": {},
   "source": [
    "## Authors\n"
   ]
  },
  {
   "cell_type": "markdown",
   "metadata": {},
   "source": [
    "Ramesh Sannareddy, Joseph Santarcangelo and Azim Hirjani\n"
   ]
  },
  {
   "cell_type": "markdown",
   "metadata": {},
   "source": [
    "### Other Contributors\n"
   ]
  },
  {
   "cell_type": "markdown",
   "metadata": {},
   "source": [
    "Rav Ahuja\n"
   ]
  },
  {
   "cell_type": "markdown",
   "metadata": {},
   "source": [
    "## Change Log\n"
   ]
  },
  {
   "cell_type": "markdown",
   "metadata": {},
   "source": [
    "| Date (YYYY-MM-DD) | Version | Changed By        | Change Description                 |\n",
    "| ----------------- | ------- | ----------------- | ---------------------------------- |\n",
    "| 2022-05-06        | 0.3     | Malika            | Updated instructions to get the API and the url|\n",
    "| 2021-04-15        | 0.2     | Malika            | Updated the lab from USD to EUR    |\n",
    "| 2020-11-25        | 0.1     | Ramesh Sannareddy | Created initial version of the lab |\n"
   ]
  },
  {
   "cell_type": "markdown",
   "metadata": {},
   "source": [
    " Copyright © 2020 IBM Corporation. This notebook and its source code are released under the terms of the [MIT License](https://cognitiveclass.ai/mit-license?utm_medium=Exinfluencer&utm_source=Exinfluencer&utm_content=000026UJ&utm_term=10006555&utm_id=NA-SkillsNetwork-Channel-SkillsNetworkCoursesIBMDeveloperSkillsNetworkPY0221ENSkillsNetwork899-2023-01-01&cm_mmc=Email_Newsletter-_-Developer_Ed%2BTech-_-WW_WW-_-SkillsNetwork-Courses-IBM-DA0321EN-SkillsNetwork-21426264&cm_mmca1=000026UJ&cm_mmca2=10006555&cm_mmca3=M12345678&cvosrc=email.Newsletter.M12345678&cvo_campaign=000026UJ).\n"
   ]
  }
 ],
 "metadata": {
  "kernelspec": {
   "display_name": "Python",
   "language": "python",
   "name": "conda-env-python-py"
  },
  "language_info": {
   "codemirror_mode": {
    "name": "ipython",
    "version": 3
   },
   "file_extension": ".py",
   "mimetype": "text/x-python",
   "name": "python",
   "nbconvert_exporter": "python",
   "pygments_lexer": "ipython3",
   "version": "3.7.12"
  }
 },
 "nbformat": 4,
 "nbformat_minor": 4
}
